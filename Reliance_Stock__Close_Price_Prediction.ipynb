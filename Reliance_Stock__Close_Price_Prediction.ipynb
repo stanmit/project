{
 "cells": [
  {
   "cell_type": "code",
   "execution_count": 1,
   "id": "annual-match",
   "metadata": {},
   "outputs": [],
   "source": [
    "import pandas as pd\n",
    "import numpy as np\n",
    "import matplotlib.pyplot as plt"
   ]
  },
  {
   "cell_type": "code",
   "execution_count": 2,
   "id": "emotional-yield",
   "metadata": {},
   "outputs": [],
   "source": [
    "df = pd.read_parquet(r\"C:\\Users\\tanak\\Desktop\\Project\\part-00000-ecb53c4b-fbd9-4bdf-9b86-6b5752c80d07-c000.snappy.parquet\")"
   ]
  },
  {
   "cell_type": "code",
   "execution_count": 3,
   "id": "figured-helen",
   "metadata": {},
   "outputs": [
    {
     "data": {
      "text/html": [
       "<div>\n",
       "<style scoped>\n",
       "    .dataframe tbody tr th:only-of-type {\n",
       "        vertical-align: middle;\n",
       "    }\n",
       "\n",
       "    .dataframe tbody tr th {\n",
       "        vertical-align: top;\n",
       "    }\n",
       "\n",
       "    .dataframe thead th {\n",
       "        text-align: right;\n",
       "    }\n",
       "</style>\n",
       "<table border=\"1\" class=\"dataframe\">\n",
       "  <thead>\n",
       "    <tr style=\"text-align: right;\">\n",
       "      <th></th>\n",
       "      <th>INSTRUMENT</th>\n",
       "      <th>SYMBOL</th>\n",
       "      <th>STRIKE_PR</th>\n",
       "      <th>OPTION_TYP</th>\n",
       "      <th>OPEN</th>\n",
       "      <th>HIGH</th>\n",
       "      <th>LOW</th>\n",
       "      <th>CLOSE</th>\n",
       "      <th>SETTLE_PR</th>\n",
       "      <th>CONTRACTS</th>\n",
       "      <th>VAL_INLAKH</th>\n",
       "      <th>OPEN_INT</th>\n",
       "      <th>CHG_IN_OI</th>\n",
       "      <th>DATE</th>\n",
       "      <th>EX_DATE</th>\n",
       "      <th>DIFF_DATE</th>\n",
       "    </tr>\n",
       "  </thead>\n",
       "  <tbody>\n",
       "    <tr>\n",
       "      <th>0</th>\n",
       "      <td>FUTSTK</td>\n",
       "      <td>RELIANCE</td>\n",
       "      <td>0</td>\n",
       "      <td>XX</td>\n",
       "      <td>2174</td>\n",
       "      <td>2179</td>\n",
       "      <td>2073</td>\n",
       "      <td>2088</td>\n",
       "      <td>2088</td>\n",
       "      <td>60827</td>\n",
       "      <td>654661</td>\n",
       "      <td>33078005</td>\n",
       "      <td>-324210</td>\n",
       "      <td>2020-08-31</td>\n",
       "      <td>2020-09-24</td>\n",
       "      <td>24.0</td>\n",
       "    </tr>\n",
       "    <tr>\n",
       "      <th>1</th>\n",
       "      <td>FUTSTK</td>\n",
       "      <td>RELIANCE</td>\n",
       "      <td>0</td>\n",
       "      <td>XX</td>\n",
       "      <td>2175</td>\n",
       "      <td>2179</td>\n",
       "      <td>2082</td>\n",
       "      <td>2098</td>\n",
       "      <td>2098</td>\n",
       "      <td>1871</td>\n",
       "      <td>20178</td>\n",
       "      <td>843350</td>\n",
       "      <td>261085</td>\n",
       "      <td>2020-08-31</td>\n",
       "      <td>2020-10-29</td>\n",
       "      <td>59.0</td>\n",
       "    </tr>\n",
       "    <tr>\n",
       "      <th>2</th>\n",
       "      <td>FUTSTK</td>\n",
       "      <td>RELIANCE</td>\n",
       "      <td>0</td>\n",
       "      <td>XX</td>\n",
       "      <td>2173</td>\n",
       "      <td>2177</td>\n",
       "      <td>2092</td>\n",
       "      <td>2099</td>\n",
       "      <td>2099</td>\n",
       "      <td>84</td>\n",
       "      <td>909</td>\n",
       "      <td>30300</td>\n",
       "      <td>25250</td>\n",
       "      <td>2020-08-31</td>\n",
       "      <td>2020-11-26</td>\n",
       "      <td>87.0</td>\n",
       "    </tr>\n",
       "    <tr>\n",
       "      <th>3</th>\n",
       "      <td>OPTSTK</td>\n",
       "      <td>RELIANCE</td>\n",
       "      <td>1500</td>\n",
       "      <td>CE</td>\n",
       "      <td>580</td>\n",
       "      <td>580</td>\n",
       "      <td>580</td>\n",
       "      <td>580</td>\n",
       "      <td>580</td>\n",
       "      <td>1</td>\n",
       "      <td>10</td>\n",
       "      <td>18685</td>\n",
       "      <td>-505</td>\n",
       "      <td>2020-08-31</td>\n",
       "      <td>2020-09-24</td>\n",
       "      <td>24.0</td>\n",
       "    </tr>\n",
       "    <tr>\n",
       "      <th>4</th>\n",
       "      <td>OPTSTK</td>\n",
       "      <td>RELIANCE</td>\n",
       "      <td>1600</td>\n",
       "      <td>CE</td>\n",
       "      <td>552</td>\n",
       "      <td>552</td>\n",
       "      <td>552</td>\n",
       "      <td>552</td>\n",
       "      <td>485</td>\n",
       "      <td>1</td>\n",
       "      <td>10</td>\n",
       "      <td>57065</td>\n",
       "      <td>-505</td>\n",
       "      <td>2020-08-31</td>\n",
       "      <td>2020-09-24</td>\n",
       "      <td>24.0</td>\n",
       "    </tr>\n",
       "  </tbody>\n",
       "</table>\n",
       "</div>"
      ],
      "text/plain": [
       "  INSTRUMENT    SYMBOL  STRIKE_PR OPTION_TYP  OPEN  HIGH   LOW  CLOSE  \\\n",
       "0     FUTSTK  RELIANCE          0         XX  2174  2179  2073   2088   \n",
       "1     FUTSTK  RELIANCE          0         XX  2175  2179  2082   2098   \n",
       "2     FUTSTK  RELIANCE          0         XX  2173  2177  2092   2099   \n",
       "3     OPTSTK  RELIANCE       1500         CE   580   580   580    580   \n",
       "4     OPTSTK  RELIANCE       1600         CE   552   552   552    552   \n",
       "\n",
       "   SETTLE_PR  CONTRACTS  VAL_INLAKH  OPEN_INT  CHG_IN_OI       DATE  \\\n",
       "0       2088      60827      654661  33078005    -324210 2020-08-31   \n",
       "1       2098       1871       20178    843350     261085 2020-08-31   \n",
       "2       2099         84         909     30300      25250 2020-08-31   \n",
       "3        580          1          10     18685       -505 2020-08-31   \n",
       "4        485          1          10     57065       -505 2020-08-31   \n",
       "\n",
       "     EX_DATE  DIFF_DATE  \n",
       "0 2020-09-24       24.0  \n",
       "1 2020-10-29       59.0  \n",
       "2 2020-11-26       87.0  \n",
       "3 2020-09-24       24.0  \n",
       "4 2020-09-24       24.0  "
      ]
     },
     "execution_count": 3,
     "metadata": {},
     "output_type": "execute_result"
    }
   ],
   "source": [
    "df.head()"
   ]
  },
  {
   "cell_type": "code",
   "execution_count": 4,
   "id": "overall-litigation",
   "metadata": {},
   "outputs": [],
   "source": [
    "df1 = df[df['INSTRUMENT'] == 'FUTSTK']"
   ]
  },
  {
   "cell_type": "code",
   "execution_count": 5,
   "id": "developmental-webster",
   "metadata": {},
   "outputs": [
    {
     "data": {
      "text/html": [
       "<div>\n",
       "<style scoped>\n",
       "    .dataframe tbody tr th:only-of-type {\n",
       "        vertical-align: middle;\n",
       "    }\n",
       "\n",
       "    .dataframe tbody tr th {\n",
       "        vertical-align: top;\n",
       "    }\n",
       "\n",
       "    .dataframe thead th {\n",
       "        text-align: right;\n",
       "    }\n",
       "</style>\n",
       "<table border=\"1\" class=\"dataframe\">\n",
       "  <thead>\n",
       "    <tr style=\"text-align: right;\">\n",
       "      <th></th>\n",
       "      <th>INSTRUMENT</th>\n",
       "      <th>SYMBOL</th>\n",
       "      <th>STRIKE_PR</th>\n",
       "      <th>OPTION_TYP</th>\n",
       "      <th>OPEN</th>\n",
       "      <th>HIGH</th>\n",
       "      <th>LOW</th>\n",
       "      <th>CLOSE</th>\n",
       "      <th>SETTLE_PR</th>\n",
       "      <th>CONTRACTS</th>\n",
       "      <th>VAL_INLAKH</th>\n",
       "      <th>OPEN_INT</th>\n",
       "      <th>CHG_IN_OI</th>\n",
       "      <th>DATE</th>\n",
       "      <th>EX_DATE</th>\n",
       "      <th>DIFF_DATE</th>\n",
       "    </tr>\n",
       "  </thead>\n",
       "  <tbody>\n",
       "    <tr>\n",
       "      <th>0</th>\n",
       "      <td>FUTSTK</td>\n",
       "      <td>RELIANCE</td>\n",
       "      <td>0</td>\n",
       "      <td>XX</td>\n",
       "      <td>2174</td>\n",
       "      <td>2179</td>\n",
       "      <td>2073</td>\n",
       "      <td>2088</td>\n",
       "      <td>2088</td>\n",
       "      <td>60827</td>\n",
       "      <td>654661</td>\n",
       "      <td>33078005</td>\n",
       "      <td>-324210</td>\n",
       "      <td>2020-08-31</td>\n",
       "      <td>2020-09-24</td>\n",
       "      <td>24.0</td>\n",
       "    </tr>\n",
       "    <tr>\n",
       "      <th>1</th>\n",
       "      <td>FUTSTK</td>\n",
       "      <td>RELIANCE</td>\n",
       "      <td>0</td>\n",
       "      <td>XX</td>\n",
       "      <td>2175</td>\n",
       "      <td>2179</td>\n",
       "      <td>2082</td>\n",
       "      <td>2098</td>\n",
       "      <td>2098</td>\n",
       "      <td>1871</td>\n",
       "      <td>20178</td>\n",
       "      <td>843350</td>\n",
       "      <td>261085</td>\n",
       "      <td>2020-08-31</td>\n",
       "      <td>2020-10-29</td>\n",
       "      <td>59.0</td>\n",
       "    </tr>\n",
       "    <tr>\n",
       "      <th>2</th>\n",
       "      <td>FUTSTK</td>\n",
       "      <td>RELIANCE</td>\n",
       "      <td>0</td>\n",
       "      <td>XX</td>\n",
       "      <td>2173</td>\n",
       "      <td>2177</td>\n",
       "      <td>2092</td>\n",
       "      <td>2099</td>\n",
       "      <td>2099</td>\n",
       "      <td>84</td>\n",
       "      <td>909</td>\n",
       "      <td>30300</td>\n",
       "      <td>25250</td>\n",
       "      <td>2020-08-31</td>\n",
       "      <td>2020-11-26</td>\n",
       "      <td>87.0</td>\n",
       "    </tr>\n",
       "    <tr>\n",
       "      <th>93</th>\n",
       "      <td>FUTSTK</td>\n",
       "      <td>RELIANCE</td>\n",
       "      <td>0</td>\n",
       "      <td>XX</td>\n",
       "      <td>2130</td>\n",
       "      <td>2143</td>\n",
       "      <td>2112</td>\n",
       "      <td>2127</td>\n",
       "      <td>2127</td>\n",
       "      <td>35907</td>\n",
       "      <td>385906</td>\n",
       "      <td>33402215</td>\n",
       "      <td>716595</td>\n",
       "      <td>2020-08-28</td>\n",
       "      <td>2020-09-24</td>\n",
       "      <td>27.0</td>\n",
       "    </tr>\n",
       "    <tr>\n",
       "      <th>94</th>\n",
       "      <td>FUTSTK</td>\n",
       "      <td>RELIANCE</td>\n",
       "      <td>0</td>\n",
       "      <td>XX</td>\n",
       "      <td>2091</td>\n",
       "      <td>2151</td>\n",
       "      <td>2091</td>\n",
       "      <td>2133</td>\n",
       "      <td>2133</td>\n",
       "      <td>766</td>\n",
       "      <td>8254</td>\n",
       "      <td>582265</td>\n",
       "      <td>114635</td>\n",
       "      <td>2020-08-28</td>\n",
       "      <td>2020-10-29</td>\n",
       "      <td>62.0</td>\n",
       "    </tr>\n",
       "  </tbody>\n",
       "</table>\n",
       "</div>"
      ],
      "text/plain": [
       "   INSTRUMENT    SYMBOL  STRIKE_PR OPTION_TYP  OPEN  HIGH   LOW  CLOSE  \\\n",
       "0      FUTSTK  RELIANCE          0         XX  2174  2179  2073   2088   \n",
       "1      FUTSTK  RELIANCE          0         XX  2175  2179  2082   2098   \n",
       "2      FUTSTK  RELIANCE          0         XX  2173  2177  2092   2099   \n",
       "93     FUTSTK  RELIANCE          0         XX  2130  2143  2112   2127   \n",
       "94     FUTSTK  RELIANCE          0         XX  2091  2151  2091   2133   \n",
       "\n",
       "    SETTLE_PR  CONTRACTS  VAL_INLAKH  OPEN_INT  CHG_IN_OI       DATE  \\\n",
       "0        2088      60827      654661  33078005    -324210 2020-08-31   \n",
       "1        2098       1871       20178    843350     261085 2020-08-31   \n",
       "2        2099         84         909     30300      25250 2020-08-31   \n",
       "93       2127      35907      385906  33402215     716595 2020-08-28   \n",
       "94       2133        766        8254    582265     114635 2020-08-28   \n",
       "\n",
       "      EX_DATE  DIFF_DATE  \n",
       "0  2020-09-24       24.0  \n",
       "1  2020-10-29       59.0  \n",
       "2  2020-11-26       87.0  \n",
       "93 2020-09-24       27.0  \n",
       "94 2020-10-29       62.0  "
      ]
     },
     "execution_count": 5,
     "metadata": {},
     "output_type": "execute_result"
    }
   ],
   "source": [
    "df1.head()"
   ]
  },
  {
   "cell_type": "code",
   "execution_count": 6,
   "id": "cosmetic-holmes",
   "metadata": {},
   "outputs": [],
   "source": [
    "df2 = df1.groupby(['DATE']).mean()"
   ]
  },
  {
   "cell_type": "code",
   "execution_count": 7,
   "id": "precise-interaction",
   "metadata": {},
   "outputs": [
    {
     "data": {
      "text/html": [
       "<div>\n",
       "<style scoped>\n",
       "    .dataframe tbody tr th:only-of-type {\n",
       "        vertical-align: middle;\n",
       "    }\n",
       "\n",
       "    .dataframe tbody tr th {\n",
       "        vertical-align: top;\n",
       "    }\n",
       "\n",
       "    .dataframe thead th {\n",
       "        text-align: right;\n",
       "    }\n",
       "</style>\n",
       "<table border=\"1\" class=\"dataframe\">\n",
       "  <thead>\n",
       "    <tr style=\"text-align: right;\">\n",
       "      <th></th>\n",
       "      <th>STRIKE_PR</th>\n",
       "      <th>OPEN</th>\n",
       "      <th>HIGH</th>\n",
       "      <th>LOW</th>\n",
       "      <th>CLOSE</th>\n",
       "      <th>SETTLE_PR</th>\n",
       "      <th>CONTRACTS</th>\n",
       "      <th>VAL_INLAKH</th>\n",
       "      <th>OPEN_INT</th>\n",
       "      <th>CHG_IN_OI</th>\n",
       "      <th>DIFF_DATE</th>\n",
       "    </tr>\n",
       "    <tr>\n",
       "      <th>DATE</th>\n",
       "      <th></th>\n",
       "      <th></th>\n",
       "      <th></th>\n",
       "      <th></th>\n",
       "      <th></th>\n",
       "      <th></th>\n",
       "      <th></th>\n",
       "      <th></th>\n",
       "      <th></th>\n",
       "      <th></th>\n",
       "      <th></th>\n",
       "    </tr>\n",
       "  </thead>\n",
       "  <tbody>\n",
       "    <tr>\n",
       "      <th>2001-11-09</th>\n",
       "      <td>0.0</td>\n",
       "      <td>266.5</td>\n",
       "      <td>268.0</td>\n",
       "      <td>265.0</td>\n",
       "      <td>267.0</td>\n",
       "      <td>266.5</td>\n",
       "      <td>131.5</td>\n",
       "      <td>208.5</td>\n",
       "      <td>39300.0</td>\n",
       "      <td>39300.0</td>\n",
       "      <td>34.0</td>\n",
       "    </tr>\n",
       "    <tr>\n",
       "      <th>2001-11-12</th>\n",
       "      <td>0.0</td>\n",
       "      <td>269.5</td>\n",
       "      <td>272.0</td>\n",
       "      <td>269.5</td>\n",
       "      <td>270.0</td>\n",
       "      <td>268.0</td>\n",
       "      <td>209.5</td>\n",
       "      <td>336.5</td>\n",
       "      <td>92100.0</td>\n",
       "      <td>52800.0</td>\n",
       "      <td>31.0</td>\n",
       "    </tr>\n",
       "    <tr>\n",
       "      <th>2001-11-13</th>\n",
       "      <td>0.0</td>\n",
       "      <td>266.0</td>\n",
       "      <td>268.0</td>\n",
       "      <td>266.0</td>\n",
       "      <td>268.0</td>\n",
       "      <td>270.5</td>\n",
       "      <td>224.5</td>\n",
       "      <td>359.5</td>\n",
       "      <td>102600.0</td>\n",
       "      <td>10500.0</td>\n",
       "      <td>30.0</td>\n",
       "    </tr>\n",
       "    <tr>\n",
       "      <th>2001-11-14</th>\n",
       "      <td>0.0</td>\n",
       "      <td>271.5</td>\n",
       "      <td>273.5</td>\n",
       "      <td>271.0</td>\n",
       "      <td>273.0</td>\n",
       "      <td>275.0</td>\n",
       "      <td>173.0</td>\n",
       "      <td>282.5</td>\n",
       "      <td>143100.0</td>\n",
       "      <td>40500.0</td>\n",
       "      <td>29.0</td>\n",
       "    </tr>\n",
       "    <tr>\n",
       "      <th>2001-11-15</th>\n",
       "      <td>0.0</td>\n",
       "      <td>273.5</td>\n",
       "      <td>277.5</td>\n",
       "      <td>273.5</td>\n",
       "      <td>276.5</td>\n",
       "      <td>279.5</td>\n",
       "      <td>244.0</td>\n",
       "      <td>403.5</td>\n",
       "      <td>145200.0</td>\n",
       "      <td>2100.0</td>\n",
       "      <td>28.0</td>\n",
       "    </tr>\n",
       "  </tbody>\n",
       "</table>\n",
       "</div>"
      ],
      "text/plain": [
       "            STRIKE_PR   OPEN   HIGH    LOW  CLOSE  SETTLE_PR  CONTRACTS  \\\n",
       "DATE                                                                      \n",
       "2001-11-09        0.0  266.5  268.0  265.0  267.0      266.5      131.5   \n",
       "2001-11-12        0.0  269.5  272.0  269.5  270.0      268.0      209.5   \n",
       "2001-11-13        0.0  266.0  268.0  266.0  268.0      270.5      224.5   \n",
       "2001-11-14        0.0  271.5  273.5  271.0  273.0      275.0      173.0   \n",
       "2001-11-15        0.0  273.5  277.5  273.5  276.5      279.5      244.0   \n",
       "\n",
       "            VAL_INLAKH  OPEN_INT  CHG_IN_OI  DIFF_DATE  \n",
       "DATE                                                    \n",
       "2001-11-09       208.5   39300.0    39300.0       34.0  \n",
       "2001-11-12       336.5   92100.0    52800.0       31.0  \n",
       "2001-11-13       359.5  102600.0    10500.0       30.0  \n",
       "2001-11-14       282.5  143100.0    40500.0       29.0  \n",
       "2001-11-15       403.5  145200.0     2100.0       28.0  "
      ]
     },
     "execution_count": 7,
     "metadata": {},
     "output_type": "execute_result"
    }
   ],
   "source": [
    "df2.head()"
   ]
  },
  {
   "cell_type": "code",
   "execution_count": 8,
   "id": "secondary-anthropology",
   "metadata": {},
   "outputs": [
    {
     "data": {
      "image/png": "[encoded data removed]",
      "text/plain": [
       "<Figure size 1152x576 with 1 Axes>"
      ]
     },
     "metadata": {
      "needs_background": "light"
     },
     "output_type": "display_data"
    }
   ],
   "source": [
    "plt.figure(figsize=(16,8))\n",
    "plt.title('Close Price History')\n",
    "plt.plot(df2['CLOSE'])\n",
    "plt.xlabel('DATE', fontsize=18)\n",
    "plt.ylabel('Close Price USD ($)', fontsize=18)\n",
    "plt.show()"
   ]
  },
  {
   "cell_type": "code",
   "execution_count": 9,
   "id": "honey-reach",
   "metadata": {},
   "outputs": [
    {
     "data": {
      "text/plain": [
       "3708"
      ]
     },
     "execution_count": 9,
     "metadata": {},
     "output_type": "execute_result"
    }
   ],
   "source": [
    "# Create a new dataframe with only the 'Close column \n",
    "data = df2.filter(['CLOSE'])\n",
    "# Convert the dataframe to a numpy array\n",
    "dataset = data.values\n",
    "# Get the number of rows to train the model on\n",
    "training_data_len = int(np.ceil( len(dataset) * .80 ))\n",
    "\n",
    "training_data_len"
   ]
  },
  {
   "cell_type": "code",
   "execution_count": 10,
   "id": "still-boring",
   "metadata": {},
   "outputs": [
    {
     "data": {
      "text/plain": [
       "array([[0.02621966],\n",
       "       [0.02719377],\n",
       "       [0.02654436],\n",
       "       ...,\n",
       "       [0.62648483],\n",
       "       [0.63189653],\n",
       "       [0.61977433]])"
      ]
     },
     "execution_count": 10,
     "metadata": {},
     "output_type": "execute_result"
    }
   ],
   "source": [
    "# Scale the data\n",
    "from sklearn.preprocessing import MinMaxScaler\n",
    "\n",
    "scaler = MinMaxScaler(feature_range=(0,1))\n",
    "scaled_data = scaler.fit_transform(dataset)\n",
    "\n",
    "scaled_data"
   ]
  },
  {
   "cell_type": "code",
   "execution_count": 11,
   "id": "tribal-harris",
   "metadata": {
    "scrolled": false
   },
   "outputs": [
    {
     "name": "stdout",
     "output_type": "stream",
     "text": [
      "[array([0.02621966, 0.02719377, 0.02654436, 0.02816787, 0.02930433,\n",
      "       0.03855832, 0.03487837, 0.03514896, 0.03449955, 0.03449955,\n",
      "       0.03704305, 0.03498661, 0.0340125 , 0.03385015, 0.03482426,\n",
      "       0.03725952, 0.04213004, 0.04099359, 0.04213004, 0.04277945,\n",
      "       0.04131829, 0.04131829, 0.04099359, 0.0403983 , 0.04034418,\n",
      "       0.03969478, 0.04034418, 0.04034418, 0.04034418, 0.03904538,\n",
      "       0.03742187, 0.03693482, 0.03953243, 0.03839597, 0.03790892,\n",
      "       0.03612306, 0.0439159 , 0.0432665 , 0.04277945, 0.04586411,\n",
      "       0.04570176, 0.04635116, 0.04586411, 0.04472766, 0.0439159 ,\n",
      "       0.0435912 , 0.04115594, 0.04148064, 0.04148064, 0.04213004,\n",
      "       0.04164299, 0.04213004, 0.04196769, 0.0426171 , 0.04164299,\n",
      "       0.03920773, 0.03807127, 0.03839597, 0.03547366, 0.03498661])]\n",
      "\n",
      "[0.040019482100819875]\n",
      "\n",
      "[array([0.02621966, 0.02719377, 0.02654436, 0.02816787, 0.02930433,\n",
      "       0.03855832, 0.03487837, 0.03514896, 0.03449955, 0.03449955,\n",
      "       0.03704305, 0.03498661, 0.0340125 , 0.03385015, 0.03482426,\n",
      "       0.03725952, 0.04213004, 0.04099359, 0.04213004, 0.04277945,\n",
      "       0.04131829, 0.04131829, 0.04099359, 0.0403983 , 0.04034418,\n",
      "       0.03969478, 0.04034418, 0.04034418, 0.04034418, 0.03904538,\n",
      "       0.03742187, 0.03693482, 0.03953243, 0.03839597, 0.03790892,\n",
      "       0.03612306, 0.0439159 , 0.0432665 , 0.04277945, 0.04586411,\n",
      "       0.04570176, 0.04635116, 0.04586411, 0.04472766, 0.0439159 ,\n",
      "       0.0435912 , 0.04115594, 0.04148064, 0.04148064, 0.04213004,\n",
      "       0.04164299, 0.04213004, 0.04196769, 0.0426171 , 0.04164299,\n",
      "       0.03920773, 0.03807127, 0.03839597, 0.03547366, 0.03498661]), array([0.02719377, 0.02654436, 0.02816787, 0.02930433, 0.03855832,\n",
      "       0.03487837, 0.03514896, 0.03449955, 0.03449955, 0.03704305,\n",
      "       0.03498661, 0.0340125 , 0.03385015, 0.03482426, 0.03725952,\n",
      "       0.04213004, 0.04099359, 0.04213004, 0.04277945, 0.04131829,\n",
      "       0.04131829, 0.04099359, 0.0403983 , 0.04034418, 0.03969478,\n",
      "       0.04034418, 0.04034418, 0.04034418, 0.03904538, 0.03742187,\n",
      "       0.03693482, 0.03953243, 0.03839597, 0.03790892, 0.03612306,\n",
      "       0.0439159 , 0.0432665 , 0.04277945, 0.04586411, 0.04570176,\n",
      "       0.04635116, 0.04586411, 0.04472766, 0.0439159 , 0.0435912 ,\n",
      "       0.04115594, 0.04148064, 0.04148064, 0.04213004, 0.04164299,\n",
      "       0.04213004, 0.04196769, 0.0426171 , 0.04164299, 0.03920773,\n",
      "       0.03807127, 0.03839597, 0.03547366, 0.03498661, 0.04001948])]\n",
      "\n",
      "[0.040019482100819875, 0.04148063966231025]\n",
      "\n"
     ]
    },
    {
     "data": {
      "text/plain": [
       "(3648, 60, 1)"
      ]
     },
     "execution_count": 11,
     "metadata": {},
     "output_type": "execute_result"
    }
   ],
   "source": [
    "# Create the training data set \n",
    "# Create the scaled training data set\n",
    "train_data = scaled_data[0:int(training_data_len), :]\n",
    "# Split the data into x_train and y_train data sets\n",
    "x_train = []\n",
    "y_train = []\n",
    "for i in range(60, len(train_data)):\n",
    "    x_train.append(train_data[i-60:i, 0])\n",
    "    y_train.append(train_data[i, 0])\n",
    "    if i<= 61:\n",
    "        print(x_train)\n",
    "        print()\n",
    "        print(y_train)\n",
    "        print()\n",
    "\n",
    "# Convert the x_train and y_train to numpy arrays \n",
    "x_train, y_train = np.array(x_train), np.array(y_train)\n",
    "\n",
    "# Reshape the data\n",
    "x_train = np.reshape(x_train, (x_train.shape[0], x_train.shape[1], 1))\n",
    "x_train.shape"
   ]
  },
  {
   "cell_type": "code",
   "execution_count": 12,
   "id": "textile-washer",
   "metadata": {},
   "outputs": [
    {
     "name": "stdout",
     "output_type": "stream",
     "text": [
      "Epoch 1/10\n",
      "57/57 [==============================] - 9s 39ms/step - loss: 0.0529\n",
      "Epoch 2/10\n",
      "57/57 [==============================] - 2s 42ms/step - loss: 0.0011\n",
      "Epoch 3/10\n",
      "57/57 [==============================] - 2s 42ms/step - loss: 8.4189e-04\n",
      "Epoch 4/10\n",
      "57/57 [==============================] - 3s 44ms/step - loss: 8.2763e-04\n",
      "Epoch 5/10\n",
      "57/57 [==============================] - 2s 39ms/step - loss: 8.3477e-04\n",
      "Epoch 6/10\n",
      "57/57 [==============================] - 2s 43ms/step - loss: 6.3301e-04\n",
      "Epoch 7/10\n",
      "57/57 [==============================] - 3s 45ms/step - loss: 6.9795e-04\n",
      "Epoch 8/10\n",
      "57/57 [==============================] - 2s 35ms/step - loss: 7.9122e-04\n",
      "Epoch 9/10\n",
      "57/57 [==============================] - 2s 31ms/step - loss: 5.3387e-04\n",
      "Epoch 10/10\n",
      "57/57 [==============================] - 2s 31ms/step - loss: 6.8587e-04\n"
     ]
    },
    {
     "data": {
      "text/plain": [
       "<tensorflow.python.keras.callbacks.History at 0x1e010fd23d0>"
      ]
     },
     "execution_count": 12,
     "metadata": {},
     "output_type": "execute_result"
    }
   ],
   "source": [
    "from tensorflow.keras.models import Sequential\n",
    "from tensorflow.keras.layers import Dense, LSTM\n",
    "\n",
    "\n",
    "model = Sequential()\n",
    "model.add(LSTM(30, return_sequences=True, \n",
    "               input_shape= (x_train.shape[1], 1)))\n",
    "model.add(LSTM(15, return_sequences=False))\n",
    "model.add(Dense(1))\n",
    "model.compile(optimizer='adam', loss='mean_squared_error')\n",
    "model.fit(x_train, y_train, batch_size=64, epochs=10)"
   ]
  },
  {
   "cell_type": "code",
   "execution_count": 13,
   "id": "muslim-active",
   "metadata": {},
   "outputs": [
    {
     "name": "stdout",
     "output_type": "stream",
     "text": [
      "Model: \"sequential\"\n",
      "_________________________________________________________________\n",
      "Layer (type)                 Output Shape              Param #   \n",
      "=================================================================\n",
      "lstm (LSTM)                  (None, 60, 30)            3840      \n",
      "_________________________________________________________________\n",
      "lstm_1 (LSTM)                (None, 15)                2760      \n",
      "_________________________________________________________________\n",
      "dense (Dense)                (None, 1)                 16        \n",
      "=================================================================\n",
      "Total params: 6,616\n",
      "Trainable params: 6,616\n",
      "Non-trainable params: 0\n",
      "_________________________________________________________________\n"
     ]
    }
   ],
   "source": [
    "model.summary()"
   ]
  },
  {
   "cell_type": "code",
   "execution_count": 14,
   "id": "capital-interference",
   "metadata": {},
   "outputs": [
    {
     "data": {
      "text/plain": [
       "(927, 60, 1)"
      ]
     },
     "execution_count": 14,
     "metadata": {},
     "output_type": "execute_result"
    }
   ],
   "source": [
    "# Create the testing data set\n",
    "# Create a new array containing scaled values from index 1543 to 2002 \n",
    "test_data = scaled_data[training_data_len - 60: , :]\n",
    "# Create the data sets x_test and y_test\n",
    "x_test = []\n",
    "y_test = dataset[training_data_len:, :]\n",
    "for i in range(60, len(test_data)):\n",
    "    x_test.append(test_data[i-60:i, 0])\n",
    "    \n",
    "# Convert the data to a numpy array\n",
    "x_test = np.array(x_test)\n",
    "\n",
    "# Reshape the data\n",
    "x_test = np.reshape(x_test, (x_test.shape[0], x_test.shape[1], 1 ))\n",
    "x_test.shape"
   ]
  },
  {
   "cell_type": "code",
   "execution_count": 15,
   "id": "suited-sphere",
   "metadata": {},
   "outputs": [
    {
     "data": {
      "text/plain": [
       "(927, 1)"
      ]
     },
     "execution_count": 15,
     "metadata": {},
     "output_type": "execute_result"
    }
   ],
   "source": [
    "# Get the models predicted price values \n",
    "predictions = model.predict(x_test)\n",
    "predictions = scaler.inverse_transform(predictions)\n",
    "predictions.shape"
   ]
  },
  {
   "cell_type": "code",
   "execution_count": 16,
   "id": "stuffed-worry",
   "metadata": {},
   "outputs": [
    {
     "data": {
      "text/plain": [
       "74.76713785673675"
      ]
     },
     "execution_count": 16,
     "metadata": {},
     "output_type": "execute_result"
    }
   ],
   "source": [
    "# Get the root mean squared error (RMSE)\n",
    "rmse = np.sqrt(np.mean(((predictions - y_test) ** 2)))\n",
    "rmse\n"
   ]
  },
  {
   "cell_type": "code",
   "execution_count": 17,
   "id": "incorporated-ukraine",
   "metadata": {},
   "outputs": [
    {
     "data": {
      "image/png": "[encoded data removed]",
      "text/plain": [
       "<Figure size 1152x576 with 1 Axes>"
      ]
     },
     "metadata": {
      "needs_background": "light"
     },
     "output_type": "display_data"
    }
   ],
   "source": [
    "# Visualize the data\n",
    "plt.figure(figsize=(16,8))\n",
    "plt.plot(y_test, label=\"Actual\")\n",
    "plt.plot(predictions, label=\"Predictions\")\n",
    "plt.legend()\n",
    "plt.show()"
   ]
  },
  {
   "cell_type": "code",
   "execution_count": 18,
   "id": "occupational-pastor",
   "metadata": {},
   "outputs": [],
   "source": [
    "import pickle"
   ]
  },
  {
   "cell_type": "code",
   "execution_count": 19,
   "id": "caring-cabin",
   "metadata": {},
   "outputs": [],
   "source": [
    "model.save('model',save_format='h5')"
   ]
  },
  {
   "cell_type": "code",
   "execution_count": 20,
   "id": "recorded-matter",
   "metadata": {},
   "outputs": [],
   "source": [
    "last_60_days_data = df2.iloc[-60:,:].filter(['CLOSE'])\n",
    "pickle.dump(last_60_days_data, open('last_60_days_data.h5','wb'))"
   ]
  },
  {
   "cell_type": "code",
   "execution_count": null,
   "id": "ceramic-flash",
   "metadata": {},
   "outputs": [],
   "source": []
  },
  {
   "cell_type": "code",
   "execution_count": null,
   "id": "royal-laundry",
   "metadata": {},
   "outputs": [],
   "source": []
  }
 ],
 "metadata": {
  "kernelspec": {
   "display_name": "Python 3",
   "language": "python",
   "name": "python3"
  },
  "language_info": {
   "codemirror_mode": {
    "name": "ipython",
    "version": 3
   },
   "file_extension": ".py",
   "mimetype": "text/x-python",
   "name": "python",
   "nbconvert_exporter": "python",
   "pygments_lexer": "ipython3",
   "version": "3.8.7"
  }
 },
 "nbformat": 4,
 "nbformat_minor": 5
}
